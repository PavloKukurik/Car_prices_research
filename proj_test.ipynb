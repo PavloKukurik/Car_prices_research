{
 "cells": [
  {
   "cell_type": "markdown",
   "source": [
    "# How social media influence on our lives\n",
    "\n",
    "##### Made by: Pavlo Kukurik, Sviatoslav Sharak"
   ],
   "metadata": {
    "collapsed": false
   },
   "id": "821c3c068511533c"
  },
  {
   "cell_type": "code",
   "execution_count": 2,
   "id": "initial_id",
   "metadata": {
    "collapsed": true,
    "ExecuteTime": {
     "end_time": "2024-03-19T11:43:53.152410Z",
     "start_time": "2024-03-19T11:43:53.112743600Z"
    }
   },
   "outputs": [
    {
     "data": {
      "text/plain": "     age      gender  time_spent   platform  interests        location  \\\n0     56        male           3  Instagram     Sports  United Kingdom   \n1     46      female           2   Facebook     Travel  United Kingdom   \n2     32        male           8  Instagram     Sports       Australia   \n3     60  non-binary           5  Instagram     Travel  United Kingdom   \n4     25        male           1  Instagram  Lifestlye       Australia   \n..   ...         ...         ...        ...        ...             ...   \n995   22      female           8  Instagram  Lifestlye  United Kingdom   \n996   40  non-binary           6    YouTube     Travel  United Kingdom   \n997   27  non-binary           5    YouTube     Travel  United Kingdom   \n998   61      female           4    YouTube     Sports       Australia   \n999   19      female           8    YouTube     Travel       Australia   \n\n    demographics         profession  income  indebt  isHomeOwner  Owns_Car  \n0          Urban  Software Engineer   19774    True        False     False  \n1          Urban            Student   10564    True         True      True  \n2      Sub_Urban   Marketer Manager   13258   False        False     False  \n3          Urban            Student   12500   False         True     False  \n4          Urban  Software Engineer   14566   False         True      True  \n..           ...                ...     ...     ...          ...       ...  \n995        Rural   Marketer Manager   18536   False         True     False  \n996        Rural  Software Engineer   12711    True        False     False  \n997        Rural            Student   17595    True        False      True  \n998    Sub_Urban   Marketer Manager   16273    True         True     False  \n999        Rural            Student   16284   False         True     False  \n\n[1000 rows x 12 columns]",
      "text/html": "<div>\n<style scoped>\n    .dataframe tbody tr th:only-of-type {\n        vertical-align: middle;\n    }\n\n    .dataframe tbody tr th {\n        vertical-align: top;\n    }\n\n    .dataframe thead th {\n        text-align: right;\n    }\n</style>\n<table border=\"1\" class=\"dataframe\">\n  <thead>\n    <tr style=\"text-align: right;\">\n      <th></th>\n      <th>age</th>\n      <th>gender</th>\n      <th>time_spent</th>\n      <th>platform</th>\n      <th>interests</th>\n      <th>location</th>\n      <th>demographics</th>\n      <th>profession</th>\n      <th>income</th>\n      <th>indebt</th>\n      <th>isHomeOwner</th>\n      <th>Owns_Car</th>\n    </tr>\n  </thead>\n  <tbody>\n    <tr>\n      <th>0</th>\n      <td>56</td>\n      <td>male</td>\n      <td>3</td>\n      <td>Instagram</td>\n      <td>Sports</td>\n      <td>United Kingdom</td>\n      <td>Urban</td>\n      <td>Software Engineer</td>\n      <td>19774</td>\n      <td>True</td>\n      <td>False</td>\n      <td>False</td>\n    </tr>\n    <tr>\n      <th>1</th>\n      <td>46</td>\n      <td>female</td>\n      <td>2</td>\n      <td>Facebook</td>\n      <td>Travel</td>\n      <td>United Kingdom</td>\n      <td>Urban</td>\n      <td>Student</td>\n      <td>10564</td>\n      <td>True</td>\n      <td>True</td>\n      <td>True</td>\n    </tr>\n    <tr>\n      <th>2</th>\n      <td>32</td>\n      <td>male</td>\n      <td>8</td>\n      <td>Instagram</td>\n      <td>Sports</td>\n      <td>Australia</td>\n      <td>Sub_Urban</td>\n      <td>Marketer Manager</td>\n      <td>13258</td>\n      <td>False</td>\n      <td>False</td>\n      <td>False</td>\n    </tr>\n    <tr>\n      <th>3</th>\n      <td>60</td>\n      <td>non-binary</td>\n      <td>5</td>\n      <td>Instagram</td>\n      <td>Travel</td>\n      <td>United Kingdom</td>\n      <td>Urban</td>\n      <td>Student</td>\n      <td>12500</td>\n      <td>False</td>\n      <td>True</td>\n      <td>False</td>\n    </tr>\n    <tr>\n      <th>4</th>\n      <td>25</td>\n      <td>male</td>\n      <td>1</td>\n      <td>Instagram</td>\n      <td>Lifestlye</td>\n      <td>Australia</td>\n      <td>Urban</td>\n      <td>Software Engineer</td>\n      <td>14566</td>\n      <td>False</td>\n      <td>True</td>\n      <td>True</td>\n    </tr>\n    <tr>\n      <th>...</th>\n      <td>...</td>\n      <td>...</td>\n      <td>...</td>\n      <td>...</td>\n      <td>...</td>\n      <td>...</td>\n      <td>...</td>\n      <td>...</td>\n      <td>...</td>\n      <td>...</td>\n      <td>...</td>\n      <td>...</td>\n    </tr>\n    <tr>\n      <th>995</th>\n      <td>22</td>\n      <td>female</td>\n      <td>8</td>\n      <td>Instagram</td>\n      <td>Lifestlye</td>\n      <td>United Kingdom</td>\n      <td>Rural</td>\n      <td>Marketer Manager</td>\n      <td>18536</td>\n      <td>False</td>\n      <td>True</td>\n      <td>False</td>\n    </tr>\n    <tr>\n      <th>996</th>\n      <td>40</td>\n      <td>non-binary</td>\n      <td>6</td>\n      <td>YouTube</td>\n      <td>Travel</td>\n      <td>United Kingdom</td>\n      <td>Rural</td>\n      <td>Software Engineer</td>\n      <td>12711</td>\n      <td>True</td>\n      <td>False</td>\n      <td>False</td>\n    </tr>\n    <tr>\n      <th>997</th>\n      <td>27</td>\n      <td>non-binary</td>\n      <td>5</td>\n      <td>YouTube</td>\n      <td>Travel</td>\n      <td>United Kingdom</td>\n      <td>Rural</td>\n      <td>Student</td>\n      <td>17595</td>\n      <td>True</td>\n      <td>False</td>\n      <td>True</td>\n    </tr>\n    <tr>\n      <th>998</th>\n      <td>61</td>\n      <td>female</td>\n      <td>4</td>\n      <td>YouTube</td>\n      <td>Sports</td>\n      <td>Australia</td>\n      <td>Sub_Urban</td>\n      <td>Marketer Manager</td>\n      <td>16273</td>\n      <td>True</td>\n      <td>True</td>\n      <td>False</td>\n    </tr>\n    <tr>\n      <th>999</th>\n      <td>19</td>\n      <td>female</td>\n      <td>8</td>\n      <td>YouTube</td>\n      <td>Travel</td>\n      <td>Australia</td>\n      <td>Rural</td>\n      <td>Student</td>\n      <td>16284</td>\n      <td>False</td>\n      <td>True</td>\n      <td>False</td>\n    </tr>\n  </tbody>\n</table>\n<p>1000 rows × 12 columns</p>\n</div>"
     },
     "execution_count": 2,
     "metadata": {},
     "output_type": "execute_result"
    }
   ],
   "source": [
    "import pandas as pd\n",
    "\n",
    "df = pd.read_csv('dummy_data.csv', sep=',')\n",
    "\n",
    "df"
   ]
  },
  {
   "cell_type": "code",
   "outputs": [
    {
     "data": {
      "text/plain": "               age   time_spent        income\ncount  1000.000000  1000.000000   1000.000000\nmean     40.986000     5.029000  15014.823000\nstd      13.497852     2.537834   2958.628221\nmin      18.000000     1.000000  10012.000000\n25%      29.000000     3.000000  12402.250000\n50%      42.000000     5.000000  14904.500000\n75%      52.000000     7.000000  17674.250000\nmax      64.000000     9.000000  19980.000000",
      "text/html": "<div>\n<style scoped>\n    .dataframe tbody tr th:only-of-type {\n        vertical-align: middle;\n    }\n\n    .dataframe tbody tr th {\n        vertical-align: top;\n    }\n\n    .dataframe thead th {\n        text-align: right;\n    }\n</style>\n<table border=\"1\" class=\"dataframe\">\n  <thead>\n    <tr style=\"text-align: right;\">\n      <th></th>\n      <th>age</th>\n      <th>time_spent</th>\n      <th>income</th>\n    </tr>\n  </thead>\n  <tbody>\n    <tr>\n      <th>count</th>\n      <td>1000.000000</td>\n      <td>1000.000000</td>\n      <td>1000.000000</td>\n    </tr>\n    <tr>\n      <th>mean</th>\n      <td>40.986000</td>\n      <td>5.029000</td>\n      <td>15014.823000</td>\n    </tr>\n    <tr>\n      <th>std</th>\n      <td>13.497852</td>\n      <td>2.537834</td>\n      <td>2958.628221</td>\n    </tr>\n    <tr>\n      <th>min</th>\n      <td>18.000000</td>\n      <td>1.000000</td>\n      <td>10012.000000</td>\n    </tr>\n    <tr>\n      <th>25%</th>\n      <td>29.000000</td>\n      <td>3.000000</td>\n      <td>12402.250000</td>\n    </tr>\n    <tr>\n      <th>50%</th>\n      <td>42.000000</td>\n      <td>5.000000</td>\n      <td>14904.500000</td>\n    </tr>\n    <tr>\n      <th>75%</th>\n      <td>52.000000</td>\n      <td>7.000000</td>\n      <td>17674.250000</td>\n    </tr>\n    <tr>\n      <th>max</th>\n      <td>64.000000</td>\n      <td>9.000000</td>\n      <td>19980.000000</td>\n    </tr>\n  </tbody>\n</table>\n</div>"
     },
     "execution_count": 3,
     "metadata": {},
     "output_type": "execute_result"
    }
   ],
   "source": [
    "df.describe()"
   ],
   "metadata": {
    "collapsed": false,
    "ExecuteTime": {
     "end_time": "2024-03-19T11:44:25.162561700Z",
     "start_time": "2024-03-19T11:44:25.133371300Z"
    }
   },
   "id": "35784db8d80c71d8",
   "execution_count": 3
  }
 ],
 "metadata": {
  "kernelspec": {
   "display_name": "Python 3",
   "language": "python",
   "name": "python3"
  },
  "language_info": {
   "codemirror_mode": {
    "name": "ipython",
    "version": 2
   },
   "file_extension": ".py",
   "mimetype": "text/x-python",
   "name": "python",
   "nbconvert_exporter": "python",
   "pygments_lexer": "ipython2",
   "version": "2.7.6"
  }
 },
 "nbformat": 4,
 "nbformat_minor": 5
}
