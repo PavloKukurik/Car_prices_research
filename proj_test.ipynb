{
 "cells": [
  {
   "cell_type": "markdown",
   "id": "821c3c068511533c",
   "metadata": {
    "collapsed": false
   },
   "source": [
    "# Cars selling\n",
    "\n",
    "##### Made by: Pavlo Kukurik, Sviatoslav Sharak"
   ]
  },
  {
   "cell_type": "code",
   "execution_count": 3,
   "id": "1f6e06d9",
   "metadata": {
    "ExecuteTime": {
     "end_time": "2024-04-06T12:36:37.253368100Z",
     "start_time": "2024-04-06T12:36:35.056490500Z"
    }
   },
   "outputs": [],
   "source": [
    "# importing ibraries\n",
    "import numpy as np\n",
    "import pandas as pd\n",
    "import matplotlib.pyplot as plt"
   ]
  },
  {
   "cell_type": "code",
   "execution_count": 4,
   "id": "initial_id",
   "metadata": {
    "collapsed": true,
    "ExecuteTime": {
     "end_time": "2024-04-06T12:36:40.397101800Z",
     "start_time": "2024-04-06T12:36:37.254566900Z"
    }
   },
   "outputs": [
    {
     "data": {
      "text/plain": "        year    make                model         trim       body  \\\n0       2015     Kia              Sorento           LX        SUV   \n1       2015     Kia              Sorento           LX        SUV   \n2       2014     BMW             3 Series   328i SULEV      Sedan   \n3       2015   Volvo                  S60           T5      Sedan   \n4       2014     BMW  6 Series Gran Coupe         650i      Sedan   \n...      ...     ...                  ...          ...        ...   \n558832  2015     Kia                 K900       Luxury      Sedan   \n558833  2012     Ram                 2500  Power Wagon   Crew Cab   \n558834  2012     BMW                   X5    xDrive35d        SUV   \n558835  2015  Nissan               Altima        2.5 S      sedan   \n558836  2014    Ford                F-150          XLT  SuperCrew   \n\n       transmission                vin state  condition  odometer   color  \\\n0         automatic  5xyktca69fg566472    ca        5.0   16639.0   white   \n1         automatic  5xyktca69fg561319    ca        5.0    9393.0   white   \n2         automatic  wba3c1c51ek116351    ca       45.0    1331.0    gray   \n3         automatic  yv1612tb4f1310987    ca       41.0   14282.0   white   \n4         automatic  wba6b2c57ed129731    ca       43.0    2641.0    gray   \n...             ...                ...   ...        ...       ...     ...   \n558832          NaN  knalw4d4xf6019304    in       45.0   18255.0  silver   \n558833    automatic  3c6td5et6cg112407    wa        5.0   54393.0   white   \n558834    automatic  5uxzw0c58cl668465    ca       48.0   50561.0   black   \n558835    automatic  1n4al3ap0fc216050    ga       38.0   16658.0   white   \n558836    automatic  1ftfw1et2eke87277    ca       34.0   15008.0    gray   \n\n       interior                                             seller      mmr  \\\n0         black                            kia motors america  inc  20500.0   \n1         beige                            kia motors america  inc  20800.0   \n2         black             financial services remarketing (lease)  31900.0   \n3         black                            volvo na rep/world omni  27500.0   \n4         black             financial services remarketing (lease)  66000.0   \n...         ...                                                ...      ...   \n558832    black                                   avis corporation  35300.0   \n558833    black                                    i -5 uhlmann rv  30200.0   \n558834    black             financial services remarketing (lease)  29800.0   \n558835    black  enterprise vehicle exchange / tra / rental / t...  15100.0   \n558836     gray                   ford motor credit company llc pd  29600.0   \n\n        sellingprice                                 saledate  \n0            21500.0  Tue Dec 16 2014 12:30:00 GMT-0800 (PST)  \n1            21500.0  Tue Dec 16 2014 12:30:00 GMT-0800 (PST)  \n2            30000.0  Thu Jan 15 2015 04:30:00 GMT-0800 (PST)  \n3            27750.0  Thu Jan 29 2015 04:30:00 GMT-0800 (PST)  \n4            67000.0  Thu Dec 18 2014 12:30:00 GMT-0800 (PST)  \n...              ...                                      ...  \n558832       33000.0  Thu Jul 09 2015 07:00:00 GMT-0700 (PDT)  \n558833       30800.0  Wed Jul 08 2015 09:30:00 GMT-0700 (PDT)  \n558834       34000.0  Wed Jul 08 2015 09:30:00 GMT-0700 (PDT)  \n558835       11100.0  Thu Jul 09 2015 06:45:00 GMT-0700 (PDT)  \n558836       26700.0  Thu May 28 2015 05:30:00 GMT-0700 (PDT)  \n\n[558837 rows x 16 columns]",
      "text/html": "<div>\n<style scoped>\n    .dataframe tbody tr th:only-of-type {\n        vertical-align: middle;\n    }\n\n    .dataframe tbody tr th {\n        vertical-align: top;\n    }\n\n    .dataframe thead th {\n        text-align: right;\n    }\n</style>\n<table border=\"1\" class=\"dataframe\">\n  <thead>\n    <tr style=\"text-align: right;\">\n      <th></th>\n      <th>year</th>\n      <th>make</th>\n      <th>model</th>\n      <th>trim</th>\n      <th>body</th>\n      <th>transmission</th>\n      <th>vin</th>\n      <th>state</th>\n      <th>condition</th>\n      <th>odometer</th>\n      <th>color</th>\n      <th>interior</th>\n      <th>seller</th>\n      <th>mmr</th>\n      <th>sellingprice</th>\n      <th>saledate</th>\n    </tr>\n  </thead>\n  <tbody>\n    <tr>\n      <th>0</th>\n      <td>2015</td>\n      <td>Kia</td>\n      <td>Sorento</td>\n      <td>LX</td>\n      <td>SUV</td>\n      <td>automatic</td>\n      <td>5xyktca69fg566472</td>\n      <td>ca</td>\n      <td>5.0</td>\n      <td>16639.0</td>\n      <td>white</td>\n      <td>black</td>\n      <td>kia motors america  inc</td>\n      <td>20500.0</td>\n      <td>21500.0</td>\n      <td>Tue Dec 16 2014 12:30:00 GMT-0800 (PST)</td>\n    </tr>\n    <tr>\n      <th>1</th>\n      <td>2015</td>\n      <td>Kia</td>\n      <td>Sorento</td>\n      <td>LX</td>\n      <td>SUV</td>\n      <td>automatic</td>\n      <td>5xyktca69fg561319</td>\n      <td>ca</td>\n      <td>5.0</td>\n      <td>9393.0</td>\n      <td>white</td>\n      <td>beige</td>\n      <td>kia motors america  inc</td>\n      <td>20800.0</td>\n      <td>21500.0</td>\n      <td>Tue Dec 16 2014 12:30:00 GMT-0800 (PST)</td>\n    </tr>\n    <tr>\n      <th>2</th>\n      <td>2014</td>\n      <td>BMW</td>\n      <td>3 Series</td>\n      <td>328i SULEV</td>\n      <td>Sedan</td>\n      <td>automatic</td>\n      <td>wba3c1c51ek116351</td>\n      <td>ca</td>\n      <td>45.0</td>\n      <td>1331.0</td>\n      <td>gray</td>\n      <td>black</td>\n      <td>financial services remarketing (lease)</td>\n      <td>31900.0</td>\n      <td>30000.0</td>\n      <td>Thu Jan 15 2015 04:30:00 GMT-0800 (PST)</td>\n    </tr>\n    <tr>\n      <th>3</th>\n      <td>2015</td>\n      <td>Volvo</td>\n      <td>S60</td>\n      <td>T5</td>\n      <td>Sedan</td>\n      <td>automatic</td>\n      <td>yv1612tb4f1310987</td>\n      <td>ca</td>\n      <td>41.0</td>\n      <td>14282.0</td>\n      <td>white</td>\n      <td>black</td>\n      <td>volvo na rep/world omni</td>\n      <td>27500.0</td>\n      <td>27750.0</td>\n      <td>Thu Jan 29 2015 04:30:00 GMT-0800 (PST)</td>\n    </tr>\n    <tr>\n      <th>4</th>\n      <td>2014</td>\n      <td>BMW</td>\n      <td>6 Series Gran Coupe</td>\n      <td>650i</td>\n      <td>Sedan</td>\n      <td>automatic</td>\n      <td>wba6b2c57ed129731</td>\n      <td>ca</td>\n      <td>43.0</td>\n      <td>2641.0</td>\n      <td>gray</td>\n      <td>black</td>\n      <td>financial services remarketing (lease)</td>\n      <td>66000.0</td>\n      <td>67000.0</td>\n      <td>Thu Dec 18 2014 12:30:00 GMT-0800 (PST)</td>\n    </tr>\n    <tr>\n      <th>...</th>\n      <td>...</td>\n      <td>...</td>\n      <td>...</td>\n      <td>...</td>\n      <td>...</td>\n      <td>...</td>\n      <td>...</td>\n      <td>...</td>\n      <td>...</td>\n      <td>...</td>\n      <td>...</td>\n      <td>...</td>\n      <td>...</td>\n      <td>...</td>\n      <td>...</td>\n      <td>...</td>\n    </tr>\n    <tr>\n      <th>558832</th>\n      <td>2015</td>\n      <td>Kia</td>\n      <td>K900</td>\n      <td>Luxury</td>\n      <td>Sedan</td>\n      <td>NaN</td>\n      <td>knalw4d4xf6019304</td>\n      <td>in</td>\n      <td>45.0</td>\n      <td>18255.0</td>\n      <td>silver</td>\n      <td>black</td>\n      <td>avis corporation</td>\n      <td>35300.0</td>\n      <td>33000.0</td>\n      <td>Thu Jul 09 2015 07:00:00 GMT-0700 (PDT)</td>\n    </tr>\n    <tr>\n      <th>558833</th>\n      <td>2012</td>\n      <td>Ram</td>\n      <td>2500</td>\n      <td>Power Wagon</td>\n      <td>Crew Cab</td>\n      <td>automatic</td>\n      <td>3c6td5et6cg112407</td>\n      <td>wa</td>\n      <td>5.0</td>\n      <td>54393.0</td>\n      <td>white</td>\n      <td>black</td>\n      <td>i -5 uhlmann rv</td>\n      <td>30200.0</td>\n      <td>30800.0</td>\n      <td>Wed Jul 08 2015 09:30:00 GMT-0700 (PDT)</td>\n    </tr>\n    <tr>\n      <th>558834</th>\n      <td>2012</td>\n      <td>BMW</td>\n      <td>X5</td>\n      <td>xDrive35d</td>\n      <td>SUV</td>\n      <td>automatic</td>\n      <td>5uxzw0c58cl668465</td>\n      <td>ca</td>\n      <td>48.0</td>\n      <td>50561.0</td>\n      <td>black</td>\n      <td>black</td>\n      <td>financial services remarketing (lease)</td>\n      <td>29800.0</td>\n      <td>34000.0</td>\n      <td>Wed Jul 08 2015 09:30:00 GMT-0700 (PDT)</td>\n    </tr>\n    <tr>\n      <th>558835</th>\n      <td>2015</td>\n      <td>Nissan</td>\n      <td>Altima</td>\n      <td>2.5 S</td>\n      <td>sedan</td>\n      <td>automatic</td>\n      <td>1n4al3ap0fc216050</td>\n      <td>ga</td>\n      <td>38.0</td>\n      <td>16658.0</td>\n      <td>white</td>\n      <td>black</td>\n      <td>enterprise vehicle exchange / tra / rental / t...</td>\n      <td>15100.0</td>\n      <td>11100.0</td>\n      <td>Thu Jul 09 2015 06:45:00 GMT-0700 (PDT)</td>\n    </tr>\n    <tr>\n      <th>558836</th>\n      <td>2014</td>\n      <td>Ford</td>\n      <td>F-150</td>\n      <td>XLT</td>\n      <td>SuperCrew</td>\n      <td>automatic</td>\n      <td>1ftfw1et2eke87277</td>\n      <td>ca</td>\n      <td>34.0</td>\n      <td>15008.0</td>\n      <td>gray</td>\n      <td>gray</td>\n      <td>ford motor credit company llc pd</td>\n      <td>29600.0</td>\n      <td>26700.0</td>\n      <td>Thu May 28 2015 05:30:00 GMT-0700 (PDT)</td>\n    </tr>\n  </tbody>\n</table>\n<p>558837 rows × 16 columns</p>\n</div>"
     },
     "execution_count": 4,
     "metadata": {},
     "output_type": "execute_result"
    }
   ],
   "source": [
    "df = pd.read_csv('car_prices.csv')\n",
    "df"
   ]
  },
  {
   "cell_type": "code",
   "execution_count": null,
   "id": "35784db8d80c71d8",
   "metadata": {
    "collapsed": false,
    "ExecuteTime": {
     "end_time": "2024-04-06T12:35:39.534741200Z",
     "start_time": "2024-04-06T12:35:39.531017Z"
    }
   },
   "outputs": [],
   "source": [
    "df.describe()"
   ]
  },
  {
   "cell_type": "code",
   "execution_count": null,
   "id": "f9465c2f2bbf1f6d",
   "metadata": {
    "collapsed": false,
    "ExecuteTime": {
     "start_time": "2024-04-06T12:35:39.534741200Z"
    }
   },
   "outputs": [],
   "source": [
    "filtered_df_color = df[df['color'].map(df['color'].value_counts()) >= 1000]\n",
    "\n",
    "colors_amount = filtered_df_color['color'].value_counts()\n",
    "color_name = filtered_df_color['color'].value_counts().index.tolist()\n",
    "\n",
    "plt.pie(colors_amount, labels=color_name)\n",
    "plt.show()\n",
    "\n",
    "colors_amount"
   ]
  },
  {
   "cell_type": "code",
   "execution_count": null,
   "id": "bde4b6d4",
   "metadata": {
    "ExecuteTime": {
     "end_time": "2024-04-06T12:35:39.549449300Z",
     "start_time": "2024-04-06T12:35:39.537210200Z"
    }
   },
   "outputs": [],
   "source": [
    "filtered_df = df[df['body'].map(df['body'].value_counts()) >= 3000]\n",
    "\n",
    "body_categories = filtered_df['body'].value_counts()\n",
    "body_name = body_categories.index.tolist()\n",
    "\n",
    "plt.pie(body_categories, labels=body_name, autopct='%1.1f%%')\n",
    "\n",
    "# Визначення положення легенди поза графіком\n",
    "plt.legend(body_name, loc=\"center left\", bbox_to_anchor=(1, 0.5))\n",
    "\n",
    "plt.show()"
   ]
  },
  {
   "cell_type": "code",
   "outputs": [
    {
     "data": {
      "text/plain": "<Figure size 1000x700 with 1 Axes>",
      "image/png": "[encoded data removed]"
     },
     "metadata": {},
     "output_type": "display_data"
    }
   ],
   "source": [
    "plt.figure(figsize =(10, 7))\n",
    "plt.box(df['sellingprice'].values)\n",
    "plt.show()"
   ],
   "metadata": {
    "collapsed": false,
    "ExecuteTime": {
     "end_time": "2024-04-06T12:39:51.403661300Z",
     "start_time": "2024-04-06T12:39:51.238040800Z"
    }
   },
   "id": "5038f11f686bab9f",
   "execution_count": 13
  }
 ],
 "metadata": {
  "kernelspec": {
   "display_name": "Python 3",
   "language": "python",
   "name": "python3"
  },
  "language_info": {
   "codemirror_mode": {
    "name": "ipython",
    "version": 3
   },
   "file_extension": ".py",
   "mimetype": "text/x-python",
   "name": "python",
   "nbconvert_exporter": "python",
   "pygments_lexer": "ipython3",
   "version": "3.10.7"
  }
 },
 "nbformat": 4,
 "nbformat_minor": 5
}
